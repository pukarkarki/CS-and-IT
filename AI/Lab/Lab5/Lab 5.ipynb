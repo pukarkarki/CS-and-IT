{
 "cells": [
  {
   "cell_type": "markdown",
   "id": "8da56423-bcf1-49f7-9bf3-8f3070d45ae0",
   "metadata": {},
   "source": [
    "<h2> <b>Lab 5: Unsupervised Learning - Clustering with K-Means  </b><h2>"
   ]
  },
  {
   "cell_type": "markdown",
   "id": "6e9d6bef-367e-45f5-ac30-7d26ff228e92",
   "metadata": {},
   "source": [
    "<h4 align=\"justify\"> Unsupervised machine learning algorithms do not have any supervisor to provide any sort of guidance. In unsupervised learning, there would be no correct answer and no teacher for the guidance. Algorithms need to discover the interesting pattern in data for learning.</h4>\n",
    "<h4 align=\"justify\">\n",
    "Clustering is a type of unsupervised learning method and a common technique for statistical data analysis used in many fields.\n",
    "Clustering mainly is a task of dividing the set of observations into subsets, called clusters, in such a way that observations in the same cluster are similar in one sense and they are dissimilar to the observations in other clusters. In simple words, we can say that the main goal of clustering is to group the data on the basis of similarity and dissimilarity.</h4>"
   ]
  },
  {
   "cell_type": "markdown",
   "id": "007703e5-4062-4d4c-ae73-d4c672cc1f79",
   "metadata": {},
   "source": [
    "![Clustering](clustering.jpg)"
   ]
  },
  {
   "cell_type": "markdown",
   "id": "73c96fc4-198e-4e63-ac65-0cd0308514e4",
   "metadata": {},
   "source": [
    "<h3> We will use a library called scikit-learn to build our model </h3>"
   ]
  },
  {
   "cell_type": "code",
   "execution_count": 1,
   "id": "16250ced-5198-49b4-b3d9-85dc8908367a",
   "metadata": {},
   "outputs": [],
   "source": [
    "#import the numpy, pandas and scikit-learn library as follows\n",
    "import numpy as np\n",
    "import sklearn\n",
    "import pandas as pd\n",
    "import matplotlib.pyplot as plt"
   ]
  },
  {
   "cell_type": "markdown",
   "id": "590abcc5-18c6-4571-98a4-eed181c49144",
   "metadata": {
    "jp-MarkdownHeadingCollapsed": true,
    "tags": []
   },
   "source": [
    "<h4 align='justify'>The input data is located in the same directory in\n",
    "a file named \"malls_customer.csv\". We will use pandas read_csv function to read the csv file.\n",
    "</h4>"
   ]
  },
  {
   "cell_type": "code",
   "execution_count": 2,
   "id": "8be90b30-4948-4ccf-b27a-769a6490fc9a",
   "metadata": {},
   "outputs": [],
   "source": [
    "dataset = pd.read_csv(\"mall_customers.csv\")"
   ]
  },
  {
   "cell_type": "code",
   "execution_count": 3,
   "id": "c5171d78-1993-4bb5-aeae-248261f5ff72",
   "metadata": {},
   "outputs": [
    {
     "data": {
      "text/html": [
       "<div>\n",
       "<style scoped>\n",
       "    .dataframe tbody tr th:only-of-type {\n",
       "        vertical-align: middle;\n",
       "    }\n",
       "\n",
       "    .dataframe tbody tr th {\n",
       "        vertical-align: top;\n",
       "    }\n",
       "\n",
       "    .dataframe thead th {\n",
       "        text-align: right;\n",
       "    }\n",
       "</style>\n",
       "<table border=\"1\" class=\"dataframe\">\n",
       "  <thead>\n",
       "    <tr style=\"text-align: right;\">\n",
       "      <th></th>\n",
       "      <th>CustomerID</th>\n",
       "      <th>Gender</th>\n",
       "      <th>Age</th>\n",
       "      <th>Annual Income (k$)</th>\n",
       "      <th>Spending Score (1-100)</th>\n",
       "    </tr>\n",
       "  </thead>\n",
       "  <tbody>\n",
       "    <tr>\n",
       "      <th>0</th>\n",
       "      <td>1</td>\n",
       "      <td>Male</td>\n",
       "      <td>19</td>\n",
       "      <td>15</td>\n",
       "      <td>39</td>\n",
       "    </tr>\n",
       "    <tr>\n",
       "      <th>1</th>\n",
       "      <td>2</td>\n",
       "      <td>Male</td>\n",
       "      <td>21</td>\n",
       "      <td>15</td>\n",
       "      <td>81</td>\n",
       "    </tr>\n",
       "    <tr>\n",
       "      <th>2</th>\n",
       "      <td>3</td>\n",
       "      <td>Female</td>\n",
       "      <td>20</td>\n",
       "      <td>16</td>\n",
       "      <td>6</td>\n",
       "    </tr>\n",
       "  </tbody>\n",
       "</table>\n",
       "</div>"
      ],
      "text/plain": [
       "   CustomerID  Gender  Age  Annual Income (k$)  Spending Score (1-100)\n",
       "0           1    Male   19                  15                      39\n",
       "1           2    Male   21                  15                      81\n",
       "2           3  Female   20                  16                       6"
      ]
     },
     "execution_count": 3,
     "metadata": {},
     "output_type": "execute_result"
    }
   ],
   "source": [
    "#display the first 3 rows of the dataset\n",
    "dataset.head(3)"
   ]
  },
  {
   "cell_type": "code",
   "execution_count": 4,
   "id": "2585fda4-2fff-454a-b36a-c6bf222f42a8",
   "metadata": {},
   "outputs": [
    {
     "data": {
      "text/plain": [
       "(200, 5)"
      ]
     },
     "execution_count": 4,
     "metadata": {},
     "output_type": "execute_result"
    }
   ],
   "source": [
    "#display the rows and columns in the dataset\n",
    "dataset.shape"
   ]
  },
  {
   "cell_type": "code",
   "execution_count": 5,
   "id": "4c8aea6d-7e79-41f4-94cf-ece0f4306967",
   "metadata": {},
   "outputs": [
    {
     "name": "stdout",
     "output_type": "stream",
     "text": [
      "<class 'pandas.core.frame.DataFrame'>\n",
      "RangeIndex: 200 entries, 0 to 199\n",
      "Data columns (total 5 columns):\n",
      " #   Column                  Non-Null Count  Dtype \n",
      "---  ------                  --------------  ----- \n",
      " 0   CustomerID              200 non-null    int64 \n",
      " 1   Gender                  200 non-null    object\n",
      " 2   Age                     200 non-null    int64 \n",
      " 3   Annual Income (k$)      200 non-null    int64 \n",
      " 4   Spending Score (1-100)  200 non-null    int64 \n",
      "dtypes: int64(4), object(1)\n",
      "memory usage: 7.9+ KB\n"
     ]
    }
   ],
   "source": [
    "#display the information about dataset\n",
    "dataset.info()"
   ]
  },
  {
   "cell_type": "markdown",
   "id": "d6f9ffb7-06ad-47a9-88d8-5841135c3da9",
   "metadata": {},
   "source": [
    "<h4>We can see that there are no missing values in the dataset.</h4>"
   ]
  },
  {
   "cell_type": "markdown",
   "id": "2bf36292-de2d-44e5-827d-690b4c80a026",
   "metadata": {},
   "source": [
    "<h4 align='justify'>We now select the features upon which we want to cluster the dataset. Let us select Annual Income and Spending Score.</h4>"
   ]
  },
  {
   "cell_type": "code",
   "execution_count": 7,
   "id": "f0e391e3-3221-4c52-995e-29a7ce101c0a",
   "metadata": {},
   "outputs": [],
   "source": [
    "X= dataset.iloc[:, [3,4]].values"
   ]
  },
  {
   "cell_type": "code",
   "execution_count": 8,
   "id": "11dfd561-e31b-4a60-8294-6d6796d8c3a6",
   "metadata": {},
   "outputs": [
    {
     "data": {
      "text/plain": [
       "(200, 2)"
      ]
     },
     "execution_count": 8,
     "metadata": {},
     "output_type": "execute_result"
    }
   ],
   "source": [
    "X.shape"
   ]
  },
  {
   "cell_type": "code",
   "execution_count": 9,
   "id": "0a2444b3-acef-499a-b489-834f9f8ef97c",
   "metadata": {},
   "outputs": [
    {
     "data": {
      "text/plain": [
       "numpy.ndarray"
      ]
     },
     "execution_count": 9,
     "metadata": {},
     "output_type": "execute_result"
    }
   ],
   "source": [
    "type(X)"
   ]
  },
  {
   "cell_type": "markdown",
   "id": "23524e3c-484e-45a7-b57b-8f3b11be54be",
   "metadata": {},
   "source": [
    "<h4>We will use KMeans from sklearn.cluster</h4>"
   ]
  },
  {
   "cell_type": "code",
   "execution_count": 10,
   "id": "767946ad-a294-4078-8aa3-cbe4df94bd4c",
   "metadata": {},
   "outputs": [
    {
     "name": "stderr",
     "output_type": "stream",
     "text": [
      "C:\\Users\\Pukar Karki\\.conda\\envs\\thesis\\lib\\site-packages\\sklearn\\cluster\\_kmeans.py:881: UserWarning: KMeans is known to have a memory leak on Windows with MKL, when there are less chunks than available threads. You can avoid it by setting the environment variable OMP_NUM_THREADS=1.\n",
      "  warnings.warn(\n"
     ]
    }
   ],
   "source": [
    "from sklearn.cluster import KMeans\n",
    "wcss = []\n",
    "\n",
    "for i in range(1, 11):\n",
    "    model = KMeans(n_clusters=i, init=\"k-means++\", random_state=42)\n",
    "    model.fit(X)\n",
    "    wcss.append(model.inertia_)"
   ]
  },
  {
   "cell_type": "markdown",
   "id": "2c409c93-4a83-4c15-bb0f-306de5e53b0c",
   "metadata": {},
   "source": [
    "<h4 align=\"justify\">Now we initialize the inertia of various values of k and use elbow method to obtain optimal k.</h4>"
   ]
  },
  {
   "cell_type": "code",
   "execution_count": 11,
   "id": "c18780a9-3454-4fbc-92b9-c1b6f91f2ba1",
   "metadata": {},
   "outputs": [
    {
     "data": {
      "image/png": "[encoded data removed]",
      "text/plain": [
       "<Figure size 432x288 with 1 Axes>"
      ]
     },
     "metadata": {
      "needs_background": "light"
     },
     "output_type": "display_data"
    }
   ],
   "source": [
    "plt.plot(range(1,11), wcss)\n",
    "plt.title('The Elbow Method')\n",
    "plt.xlabel('No of Clusters')\n",
    "plt.ylabel('wcss')\n",
    "plt.show()"
   ]
  },
  {
   "cell_type": "markdown",
   "id": "e6bfc36c-1b77-4be7-b57e-c6fdfb338436",
   "metadata": {},
   "source": [
    "<h4 align=\"justify\">We can see that the elbow is at k = 5. Now we will\n",
    "use k = 5 to cluster our data.<h4>"
   ]
  },
  {
   "cell_type": "code",
   "execution_count": 12,
   "id": "a9ab1c08-8736-4166-88a6-9da742c5f899",
   "metadata": {},
   "outputs": [],
   "source": [
    "finalModel = KMeans(n_clusters= 5, init='k-means++', random_state=42)\n",
    "finalModel.fit(X)\n",
    "y_out = finalModel.predict(X)"
   ]
  },
  {
   "cell_type": "code",
   "execution_count": 13,
   "id": "56444481-4490-4fca-870d-9736a831e5ef",
   "metadata": {},
   "outputs": [
    {
     "data": {
      "text/plain": [
       "numpy.ndarray"
      ]
     },
     "execution_count": 13,
     "metadata": {},
     "output_type": "execute_result"
    }
   ],
   "source": [
    "type(y_out)"
   ]
  },
  {
   "cell_type": "code",
   "execution_count": 14,
   "id": "af26c643-8fb8-43b7-877f-ee9c942a8f2c",
   "metadata": {},
   "outputs": [
    {
     "data": {
      "text/plain": [
       "<matplotlib.collections.PathCollection at 0x1e0629b9ee0>"
      ]
     },
     "execution_count": 14,
     "metadata": {},
     "output_type": "execute_result"
    },
    {
     "data": {
      "image/png": "[encoded data removed]",
      "text/plain": [
       "<Figure size 432x288 with 1 Axes>"
      ]
     },
     "metadata": {
      "needs_background": "light"
     },
     "output_type": "display_data"
    }
   ],
   "source": [
    "plt.scatter(X[:, 0], X[:, 1], c=y_out, s=50, cmap='viridis')\n",
    "\n",
    "centers = finalModel.cluster_centers_\n",
    "plt.scatter(centers[:, 0], centers[:, 1], c='black', s=200, alpha=0.5)"
   ]
  }
 ],
 "metadata": {
  "kernelspec": {
   "display_name": "Python 3 (ipykernel)",
   "language": "python",
   "name": "python3"
  },
  "language_info": {
   "codemirror_mode": {
    "name": "ipython",
    "version": 3
   },
   "file_extension": ".py",
   "mimetype": "text/x-python",
   "name": "python",
   "nbconvert_exporter": "python",
   "pygments_lexer": "ipython3",
   "version": "3.9.7"
  }
 },
 "nbformat": 4,
 "nbformat_minor": 5
}
